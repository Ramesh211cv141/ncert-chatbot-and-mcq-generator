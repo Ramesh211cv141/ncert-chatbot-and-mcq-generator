{
 "cells": [
  {
   "cell_type": "code",
   "execution_count": 1,
   "id": "ec3477e1-ec6f-4ba7-95f8-4743565d8dd0",
   "metadata": {},
   "outputs": [
    {
     "name": "stderr",
     "output_type": "stream",
     "text": [
      "[nltk_data] Downloading package stopwords to C:\\Users\\RAMESH\n",
      "[nltk_data]     KUMAR\\AppData\\Roaming\\nltk_data...\n",
      "[nltk_data]   Package stopwords is already up-to-date!\n",
      "[nltk_data] Downloading package punkt to C:\\Users\\RAMESH\n",
      "[nltk_data]     KUMAR\\AppData\\Roaming\\nltk_data...\n",
      "[nltk_data]   Package punkt is already up-to-date!\n"
     ]
    },
    {
     "data": {
      "text/plain": [
       "True"
      ]
     },
     "execution_count": 1,
     "metadata": {},
     "output_type": "execute_result"
    }
   ],
   "source": [
    "import pandas as pd\n",
    "import numpy as np\n",
    "from sklearn.feature_extraction.text import TfidfVectorizer\n",
    "from sklearn.metrics.pairwise import cosine_similarity\n",
    "import nltk\n",
    "from nltk.corpus import stopwords\n",
    "from nltk.tokenize import word_tokenize\n",
    "import string\n",
    "\n",
    "# Download NLTK resources (if not already downloaded)\n",
    "nltk.download('stopwords')\n",
    "nltk.download('punkt')"
   ]
  },
  {
   "cell_type": "markdown",
   "id": "323d6c6d-65f6-4807-aa1b-ea79529882b4",
   "metadata": {},
   "source": [
    "# Function to preprocess text"
   ]
  },
  {
   "cell_type": "code",
   "execution_count": 2,
   "id": "4cf57b0c-b526-4601-a287-3598333eb2f6",
   "metadata": {},
   "outputs": [],
   "source": [
    "def preprocess_text(text):\n",
    "    # Check if text is NaN\n",
    "    if isinstance(text, float) and np.isnan(text):\n",
    "        return ''\n",
    "    \n",
    "    # Convert text to lowercase\n",
    "    text = text.lower()\n",
    "    \n",
    "    # Remove punctuation\n",
    "    text = text.translate(str.maketrans('', '', string.punctuation))\n",
    "    \n",
    "    # Tokenize text\n",
    "    tokens = word_tokenize(text)\n",
    "    \n",
    "    # Remove stopwords\n",
    "    stop_words = set(stopwords.words('english'))\n",
    "    filtered_tokens = [token for token in tokens if token not in stop_words]\n",
    "    \n",
    "    # Join tokens back into a single string\n",
    "    processed_text = ' '.join(filtered_tokens)\n",
    "    \n",
    "    return processed_text"
   ]
  },
  {
   "cell_type": "markdown",
   "id": "5cc5b3b3-c531-431c-91d5-4e23d980336e",
   "metadata": {},
   "source": [
    "# Load data from CSV files"
   ]
  },
  {
   "cell_type": "code",
   "execution_count": 3,
   "id": "6de17e53-2614-430a-b8f1-0d1015e8181f",
   "metadata": {},
   "outputs": [],
   "source": [
    "prev_year_csv_path = \"C:\\\\Users\\\\RAMESH KUMAR\\\\Downloads\\\\questions_only_text.csv\"\n",
    "random_csv_path = \"C:\\\\Users\\\\RAMESH KUMAR\\\\Downloads\\\\next_random_question_only_text.csv\"\n",
    "\n",
    "prev_year_df = pd.read_csv(prev_year_csv_path)\n",
    "random_df = pd.read_csv(random_csv_path)"
   ]
  },
  {
   "cell_type": "markdown",
   "id": "be9367cf-11e8-44d8-abcc-ef0d6179a94b",
   "metadata": {},
   "source": [
    "#Print dataframes for debugging"
   ]
  },
  {
   "cell_type": "code",
   "execution_count": 4,
   "id": "1a014a3d-e861-4474-bfe9-99cd16989323",
   "metadata": {},
   "outputs": [
    {
     "name": "stdout",
     "output_type": "stream",
     "text": [
      "Previous Year Questions DataFrame:\n",
      "                                            question\n",
      "0  The IUPAC name of the copound having the formu...\n",
      "1  Which nomenclature is not according to IUPAC s...\n",
      "2  Structure of the compound whose IUPAC name is ...\n",
      "3  Pick out the correct statement with respect to...\n",
      "4  Which one of the following statements is not c...\n",
      "\n",
      "Random Questions DataFrame:\n",
      "                                            question\n",
      "0  The cell wall of the cells of an alga has cell...\n",
      "1  From the velocity-time graph of a particle giv...\n",
      "2  The graph between the square root of the frequ...\n",
      "3  Assertion: A charged particle cannot be accele...\n",
      "4  If we mix a pentavalent impurity in a crystal ...\n"
     ]
    }
   ],
   "source": [
    "print(\"Previous Year Questions DataFrame:\")\n",
    "print(prev_year_df.head())\n",
    "print(\"\\nRandom Questions DataFrame:\")\n",
    "print(random_df.head())"
   ]
  },
  {
   "cell_type": "markdown",
   "id": "48d4263a-ecf2-4b8c-afa7-f1964c64f19e",
   "metadata": {},
   "source": [
    "# Preprocess and tokenize the text data"
   ]
  },
  {
   "cell_type": "code",
   "execution_count": 5,
   "id": "351b728c-16f9-4535-bc7e-7e19e747b457",
   "metadata": {},
   "outputs": [],
   "source": [
    "prev_year_df['question_processed'] = prev_year_df['question'].apply(preprocess_text)\n",
    "random_df['question_processed'] = random_df['question'].apply(preprocess_text)"
   ]
  },
  {
   "cell_type": "markdown",
   "id": "2f6a04fa-c82a-4074-af0a-a20a8a269e18",
   "metadata": {},
   "source": [
    "#Drop rows where question_processed is empty"
   ]
  },
  {
   "cell_type": "code",
   "execution_count": 6,
   "id": "a3d92778-470b-4022-a751-a3ee13d533b6",
   "metadata": {},
   "outputs": [],
   "source": [
    "prev_year_df = prev_year_df[prev_year_df['question_processed'] != '']"
   ]
  },
  {
   "cell_type": "markdown",
   "id": "541ba5ce-96e4-4d0c-84c7-ddfe532d22d6",
   "metadata": {},
   "source": [
    "#Printing  preprocessed dataframes for debugging"
   ]
  },
  {
   "cell_type": "code",
   "execution_count": 7,
   "id": "a3add534-8651-4e24-9971-5483e9607797",
   "metadata": {},
   "outputs": [
    {
     "name": "stdout",
     "output_type": "stream",
     "text": [
      "\n",
      "Preprocessed Previous Year Questions DataFrame:\n",
      "                                            question  \\\n",
      "0  The IUPAC name of the copound having the formu...   \n",
      "1  Which nomenclature is not according to IUPAC s...   \n",
      "2  Structure of the compound whose IUPAC name is ...   \n",
      "3  Pick out the correct statement with respect to...   \n",
      "4  Which one of the following statements is not c...   \n",
      "\n",
      "                                  question_processed  \n",
      "0  iupac name copound formula ch≡cchch2 is1 3bute...  \n",
      "1  nomenclature according iupac system1 brch2chch...  \n",
      "2  structure compound whose iupac name 3ethyl2hyd...  \n",
      "3  pick correct statement respect mncn63 1 sp3d2 ...  \n",
      "4  one following statements correct1 catalyst ini...  \n",
      "\n",
      "Preprocessed Random Questions DataFrame:\n",
      "                                            question  \\\n",
      "0  The cell wall of the cells of an alga has cell...   \n",
      "1  From the velocity-time graph of a particle giv...   \n",
      "2  The graph between the square root of the frequ...   \n",
      "3  Assertion: A charged particle cannot be accele...   \n",
      "4  If we mix a pentavalent impurity in a crystal ...   \n",
      "\n",
      "                                  question_processed  \n",
      "0  cell wall cells alga cellulose algin another f...  \n",
      "1  velocitytime graph particle given figure descr...  \n",
      "2  graph square root frequency specific line char...  \n",
      "3  assertion charged particle accelerated beyond ...  \n",
      "4  mix pentavalent impurity crystal lattice germa...  \n"
     ]
    }
   ],
   "source": [
    "print(\"\\nPreprocessed Previous Year Questions DataFrame:\")\n",
    "print(prev_year_df.head())\n",
    "print(\"\\nPreprocessed Random Questions DataFrame:\")\n",
    "print(random_df.head())"
   ]
  },
  {
   "cell_type": "markdown",
   "id": "6862ba27-974a-46b9-bd24-2b2d4a732022",
   "metadata": {},
   "source": [
    "# Compute TF-IDF vectors"
   ]
  },
  {
   "cell_type": "code",
   "execution_count": 8,
   "id": "7f34c95c-54a4-4a21-8d7d-80f20ce9a0c8",
   "metadata": {},
   "outputs": [],
   "source": [
    "vectorizer = TfidfVectorizer()\n",
    "prev_year_tfidf = vectorizer.fit_transform(prev_year_df['question_processed'])\n",
    "random_tfidf = vectorizer.transform(random_df['question_processed'])"
   ]
  },
  {
   "cell_type": "markdown",
   "id": "0022f225-8cd6-402e-bbfb-0d58911de4a4",
   "metadata": {},
   "source": [
    "# Calculate cosine similarity"
   ]
  },
  {
   "cell_type": "code",
   "execution_count": 9,
   "id": "a4723445-708d-4fea-9c58-0be88371348e",
   "metadata": {},
   "outputs": [],
   "source": [
    "similarity_matrix = cosine_similarity(random_tfidf, prev_year_tfidf)"
   ]
  },
  {
   "cell_type": "markdown",
   "id": "2e91e5a5-ea13-4e4b-9561-fc7d29fb63e2",
   "metadata": {},
   "source": [
    "#Print similarity matrix for debugging"
   ]
  },
  {
   "cell_type": "code",
   "execution_count": 10,
   "id": "c0ddbc4a-6111-4885-8613-b459ef80b4fb",
   "metadata": {},
   "outputs": [
    {
     "name": "stdout",
     "output_type": "stream",
     "text": [
      "\n",
      "Cosine Similarity Matrix:\n",
      "[[0.         0.         0.         ... 0.         0.06964142 0.05242263]\n",
      " [0.         0.         0.         ... 0.         0.         0.        ]\n",
      " [0.         0.         0.         ... 0.         0.         0.        ]\n",
      " ...\n",
      " [0.         0.         0.         ... 0.         0.         0.        ]\n",
      " [0.         0.         0.         ... 0.         0.         0.01378767]\n",
      " [0.         0.         0.         ... 0.         0.         0.        ]]\n"
     ]
    }
   ],
   "source": [
    "print(\"\\nCosine Similarity Matrix:\")\n",
    "print(similarity_matrix)"
   ]
  },
  {
   "cell_type": "markdown",
   "id": "c2e0a32e-0303-44b1-9e9d-84e17815b043",
   "metadata": {},
   "source": [
    "# Select top 15 random questions with highest similarity to any previous year question"
   ]
  },
  {
   "cell_type": "code",
   "execution_count": 11,
   "id": "50e9f347-a65a-4322-806c-264adbc2982a",
   "metadata": {},
   "outputs": [],
   "source": [
    "num_top_questions = 15\n",
    "if len(random_df) < num_top_questions:\n",
    "    num_top_questions = len(random_df)"
   ]
  },
  {
   "cell_type": "markdown",
   "id": "0618057c-fdd9-4474-b45f-602d889a7c0d",
   "metadata": {},
   "source": [
    "#Get indices of top similarities"
   ]
  },
  {
   "cell_type": "code",
   "execution_count": 12,
   "id": "424633bd-28a8-4ee4-8389-2e3f9df4c0ef",
   "metadata": {},
   "outputs": [],
   "source": [
    "similarity_scores = similarity_matrix.max(axis=1)\n",
    "top_indices = np.argsort(-similarity_scores)[:num_top_questions]"
   ]
  },
  {
   "cell_type": "markdown",
   "id": "978aeaa8-512b-4e28-accb-ae341b5145a1",
   "metadata": {},
   "source": [
    "#Ensuring top_indices are within bounds"
   ]
  },
  {
   "cell_type": "code",
   "execution_count": 13,
   "id": "ddafd294-dff1-46af-896b-82dcb38cdb9d",
   "metadata": {},
   "outputs": [],
   "source": [
    "valid_indices = [idx for idx in top_indices if idx < len(random_df)]"
   ]
  },
  {
   "cell_type": "markdown",
   "id": "e5015897-5f76-4fe3-8f71-dd81a70375a3",
   "metadata": {},
   "source": [
    "#Printing valid indices for debugging"
   ]
  },
  {
   "cell_type": "code",
   "execution_count": 14,
   "id": "d6410812-6a3d-4f2b-b0af-3010e00f47d5",
   "metadata": {},
   "outputs": [
    {
     "name": "stdout",
     "output_type": "stream",
     "text": [
      "\n",
      "Valid Indices of Top Similarities:\n",
      "[132, 79, 426, 128, 317, 180, 358, 133, 488, 92, 471, 20, 429, 338, 177]\n"
     ]
    }
   ],
   "source": [
    "print(\"\\nValid Indices of Top Similarities:\")\n",
    "print(valid_indices)\n"
   ]
  },
  {
   "cell_type": "code",
   "execution_count": 15,
   "id": "3ea42b86-62b8-4af5-9a98-163ba6bd45e4",
   "metadata": {},
   "outputs": [],
   "source": [
    "selected_questions = random_df.iloc[valid_indices]['question']"
   ]
  },
  {
   "cell_type": "markdown",
   "id": "8f70d352-2a49-4729-8152-0db49c49df57",
   "metadata": {},
   "source": [
    "#Printing selected questions"
   ]
  },
  {
   "cell_type": "code",
   "execution_count": 16,
   "id": "b0a0184f-b1e4-452d-a9d7-2d9bfb620dca",
   "metadata": {},
   "outputs": [
    {
     "name": "stdout",
     "output_type": "stream",
     "text": [
      "\n",
      "Selected Questions:\n",
      "1. The minimum pressure required to compress 600 dm3 of a gas at 1 bar to 150 dm3 at 40°C is\n",
      "(1) 4.0 bar\n",
      "(2) 0.2 bar\n",
      "(3) 1.0 bar\n",
      "(4) 2.5 bar\n",
      "2. Viruses have : 1. DNA enclosed in a protein coat\n",
      "2. Prokaryotic nucleus\n",
      "3. Single Chromosome\n",
      "4. Both DNA and RNA \n",
      "3. Placenta and pericarp are both edible portions in\n",
      "1. Apple\n",
      "2. Banana\n",
      "3. Tomato\n",
      "4. Potato\n",
      "\n",
      "4. Which of the following is not correctly matched for the organism and its cell wall degrading enzyme?\n",
      "1. Plant cells - Cellulase\n",
      "2. Algae - Methylase\n",
      "3. Fungi - Chitinase\n",
      "4. Bacteria – Lysozyme\n",
      "\n",
      "5. The correct thermodynamic conditions for the spontaneous reaction at all temperatures is :\n",
      "(1) ∆H > 0 and ∆S < 0\n",
      "(2) ∆H < 0 and ∆S > 0\n",
      "(3) ∆H < 0 and ∆S < 0\n",
      "(4) ∆H < 0 and ∆S = 0\n",
      "6. Match List - I with List - II\n",
      "\n",
      "\n",
      "\n",
      "\n",
      "Type of flower\n",
      "\n",
      "Example\n",
      "\n",
      "\n",
      "(A)\n",
      "Zygomorphic\n",
      "(I)\n",
      "Mustard\n",
      "\n",
      "\n",
      "(B)\n",
      "Hypogynous\n",
      "(II)\n",
      "Plum\n",
      "\n",
      "\n",
      "(C)\n",
      "Perigynous\n",
      "(III)\n",
      "Cassia\n",
      "\n",
      "\n",
      "(D)\n",
      "Epigynous\n",
      "(IV)\n",
      "Cucumber\n",
      "\n",
      "\n",
      "\n",
      "\n",
      "Choose the correct answer from the options given below:\n",
      "1. (A) - (I), (B) - (II), (C) - (IV), (D) - (III)\n",
      "2. (A) - (I), (B) - (II), (C) - (III), (D) - (IV)\n",
      "3. (A) - (IV), (B) - (I), (C) - (III), (D) - (II)\n",
      "4. (A) - (III), (B) - (I), (C) - (II), (D) - (IV)\n",
      "7. The decreasing order of the wavelength of infrared, microwave, ultraviolet and gamma rays is\n",
      "(a) gamma rays, ultraviolet, infrared, microwaves\n",
      "(b) microwaves, gamma rays, infrared, ultraviolet\n",
      "(c) infrared, microwave, ultraviolet, gamma rays\n",
      "(d) microwave, infrared, ultraviolet, gamma raysअवरक्त, सूक्ष्म तरंगे, पराबैंगनी और गामा किरणों की तरंगदैर्ध्य का घटता हुआ क्रम है-\n",
      "(a) गामा किरणें, पराबैंगनी, अवरक्त, सूक्ष्म तरंगे\n",
      "(b) सूक्ष्म तरंगे, गामा किरणें, अवरक्त, पराबैंगनी\n",
      "(c) अवरक्त, सूक्ष्म तरंगे, पराबैंगनी, गामा किरणें\n",
      "(d) सूक्ष्म तरंगे, अवरक्त, पराबैंगनी, गामा किरणें\n",
      "8. In cockroach, identify the parts of the foregut in correct sequence:-\n",
      "(1) Mouth → Oesophagus → Pharynx → Crop → Gizzard\n",
      "(2) Mouth → Crop → Pharynx → Oesophagus → Gizzard\n",
      "(3) Mouth → Gizzard → Crop → Pharynx → Oesophagus\n",
      "(4) Mouth → Pharynx → cOcoesophagus → Crop → Gizzard\n",
      "9. Identify the tissue shown in the diagram and match with its characteristics and its location:\n",
      "\n",
      "(1) Skeletal muscle, shows striations and closely attached with the bones of the limbs\n",
      "(2) Smooth muscles, show branching, found in the walls of the heart\n",
      "(3) Cardiac muscles, unbranched muscles, found in the walls of the heart\n",
      "(4) Striated muscles, tapering at both-ends, attached with the bones of the ribs\n",
      "10. Which of the following statement is not true of two genes that show 50% recombination frequency?\n",
      "1. The genes are tightly linked\n",
      "2. The genes show independent assortment\n",
      "3. If the genes are present on the same chromosome, they undergo more than one crossovers in every meiosis\n",
      "4. The genes may be on different chromosomes\n",
      "11. The orientation of an atomic orbital is governed by:\n",
      "1. azimuthal quantum number\n",
      "2. spin quatum number\n",
      "3. magnetic quantum number\n",
      "4. principal quantum number\n",
      "12. Keeping in view the fluid mosaic model for the structure of cell membrane, which one of the following statement is correct with respect to movements of lipids and proteins from one lipid monolayer to the other (described as flip flop movement) ?\n",
      "1. While proteins can flip-flop, lipids cannot\n",
      "2. Neither lipids nor proteins can flip-flop\n",
      "3. Both lipids and proteins can flip-flop\n",
      "4. While lipids can rarely flip-flop, proteins cannot\n",
      "\n",
      "13. Two rotating bodies A and B of masses m and 2m with moments of inertia IA and IBIA > IB have equal kinetic energy of rotation. If LA and LB be their angular momenta respectively, then\n",
      "(1) LA=2LB                             \n",
      "(2) LB>LA\n",
      "(3) LA>LB                               \n",
      "(4) LA=LB2\n",
      "14. Which one of the following pairs represents stereoisomerism?\n",
      "(1) Chain isomerism and rotational isomerism\n",
      "(2) Optical isomerism and geometrical isomerism\n",
      "(3) Structural isomerism and geometrical isomerism\n",
      "(4) Linkage isomerism and geometrical isomerism\n",
      "15. When a neuron is an resting state, i.e., not conducting any impulse, the axonal membrane is1. equally permeable to both Na+ and K+ ions2. impermeable to both Na+ and K+ ions3. comparatively more permeable to K+ ions and nearly impermeable to Na+ ions4. comparatively more permeable to Na+ ions and nearly impermeable to K+ ions\n"
     ]
    }
   ],
   "source": [
    "print(\"\\nSelected Questions:\")\n",
    "for idx, question in enumerate(selected_questions, start=1):\n",
    "    print(f\"{idx}. {question}\")\n",
    "\n",
    "# Ensure all questions are printed in case of any buffering issue\n",
    "import sys\n",
    "sys.stdout.flush()"
   ]
  },
  {
   "cell_type": "code",
   "execution_count": null,
   "id": "56fc9e9e-0518-42a8-aba4-49e59247aa4b",
   "metadata": {},
   "outputs": [],
   "source": []
  }
 ],
 "metadata": {
  "kernelspec": {
   "display_name": "Python 3 (ipykernel)",
   "language": "python",
   "name": "python3"
  },
  "language_info": {
   "codemirror_mode": {
    "name": "ipython",
    "version": 3
   },
   "file_extension": ".py",
   "mimetype": "text/x-python",
   "name": "python",
   "nbconvert_exporter": "python",
   "pygments_lexer": "ipython3",
   "version": "3.12.0"
  }
 },
 "nbformat": 4,
 "nbformat_minor": 5
}
